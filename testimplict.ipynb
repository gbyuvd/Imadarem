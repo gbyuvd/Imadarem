{
 "cells": [
  {
   "cell_type": "code",
   "execution_count": 1,
   "id": "0508c6b5",
   "metadata": {},
   "outputs": [
    {
     "name": "stdout",
     "output_type": "stream",
     "text": [
      "Vocab size: 412\n",
      "[MASK] token ID: 4\n"
     ]
    }
   ],
   "source": [
    "import torch\n",
    "import pandas as pd\n",
    "from torch.utils.data import DataLoader\n",
    "import matplotlib.pyplot as plt\n",
    "\n",
    "# Set device\n",
    "device = \"cuda\" if torch.cuda.is_available() else \"cpu\"\n",
    "\n",
    "from transformers import AutoTokenizer\n",
    "tokenizer = AutoTokenizer.from_pretrained(\"gbyuvd/bionat-selfies-gen-tokenizer-wordlevel\")\n",
    "    \n",
    "# Ensure [MASK] token exists\n",
    "if not hasattr(tokenizer, 'mask_token_id') or tokenizer.mask_token_id is None:\n",
    "    tokenizer.add_special_tokens({'mask_token': '[MASK]'})\n",
    "\n",
    "print(f\"Vocab size: {tokenizer.vocab_size}\")\n",
    "print(f\"[MASK] token ID: {tokenizer.mask_token_id}\")"
   ]
  },
  {
   "cell_type": "code",
   "execution_count": 2,
   "id": "9281c505",
   "metadata": {},
   "outputs": [
    {
     "name": "stdout",
     "output_type": "stream",
     "text": [
      "Model loaded with 7,794,742 parameters\n"
     ]
    }
   ],
   "source": [
    "from model import ImplicitRefinementModel, ImplicitRefinementConfig\n",
    "\n",
    "seq_len = 90  # must match training\n",
    "\n",
    "config = ImplicitRefinementConfig(\n",
    "    vocab_size=tokenizer.vocab_size,\n",
    "    hidden_size=320,\n",
    "    num_layers=6,\n",
    "    num_heads=4,\n",
    "    max_seq_len=seq_len,\n",
    "    max_refinement_steps=10,\n",
    "    dropout=0.1,\n",
    "    use_self_cond=True,\n",
    "    stop_threshold=0.02,\n",
    "    min_refine_uncertainty=0.1,\n",
    "    ema_decay=0.995,\n",
    "    diversity_weight=0.05,\n",
    "    sampling_temperature=1.0\n",
    ")\n",
    "\n",
    "model = ImplicitRefinementModel(config, tokenizer=tokenizer).to(device)\n",
    "print(f\"Model loaded with {sum(p.numel() for p in model.parameters()):,} parameters\")"
   ]
  },
  {
   "cell_type": "code",
   "execution_count": 3,
   "id": "bb5588ab",
   "metadata": {},
   "outputs": [
    {
     "name": "stdout",
     "output_type": "stream",
     "text": [
      "✅ Model weights loaded successfully!\n"
     ]
    }
   ],
   "source": [
    "checkpoint_path = \"best_model_v.pth\"  # or \"refinement_model_z_final.pth\"\n",
    "\n",
    "torch.serialization.add_safe_globals([ImplicitRefinementConfig])\n",
    "checkpoint = torch.load(checkpoint_path, map_location=device)\n",
    "model.load_state_dict(checkpoint['model_state_dict'])\n",
    "model.eval()  # set to evaluation mode\n",
    "print(\"✅ Model weights loaded successfully!\")"
   ]
  },
  {
   "cell_type": "code",
   "execution_count": 5,
   "id": "8c8e717c",
   "metadata": {},
   "outputs": [],
   "source": [
    "def generate_and_decode(model, tokenizer, num_samples=5, max_len=90, temperature=1.0):\n",
    "    \"\"\"Generate chemistry molecules using adaptive refinement.\"\"\"\n",
    "    model.eval()\n",
    "    print(f\"\\n🧪 Generating {num_samples} SELFIES molecules...\")\n",
    "    print(f\"   Temperature: {temperature}\")\n",
    "    print(\"=\"*70)\n",
    "    \n",
    "    with torch.no_grad():\n",
    "        samples = model.sample(batch_size=2, max_len=90, device='cuda')\n",
    "    \n",
    "    # Compute actual lengths (stop at first pad or eos)\n",
    "    actual_lengths = []\n",
    "    for s in samples:\n",
    "        # Find first pad or eos\n",
    "        s_list = s if isinstance(s, list) else s.tolist()\n",
    "        length = len(s_list)\n",
    "        for i, tok in enumerate(s_list):\n",
    "            if tok == tokenizer.pad_token_id or tok == tokenizer.eos_token_id:\n",
    "                length = i\n",
    "                break\n",
    "        actual_lengths.append(torch.tensor(length))\n",
    "    \n",
    "    for i, (sample, length) in enumerate(zip(samples, actual_lengths)):\n",
    "        decoded = tokenizer.decode(sample[:length.item()], skip_special_tokens=True)\n",
    "        print(f\"{i+1}. (len={length.item()}) {decoded}\")\n",
    "    \n",
    "    print(\"=\"*70)\n"
   ]
  },
  {
   "cell_type": "code",
   "execution_count": 6,
   "id": "cbf22e69",
   "metadata": {},
   "outputs": [
    {
     "name": "stdout",
     "output_type": "stream",
     "text": [
      "\n",
      "--- Temperature: 0.8 ---\n",
      "\n",
      "🧪 Generating 5 SELFIES molecules...\n",
      "   Temperature: 0.8\n",
      "======================================================================\n",
      "✅ Stopped at step 3 (change: 0.00%)\n",
      "1. (len=57) [C] [O] [=C] [C] [Branch1] [C] [=O] [C] [S] [Branch2] [F] [C] [=C] [C] [C] [C] [N] [Ring2] [C] [C] [Ring1] [Branch1] [C] [C] [Branch1] [Branch1] [Branch1] [=O] [C] [Branch2] [Branch1] [P] [=N] [Branch1] [=N] [C] [=N] [Branch1] [C] [=C] [=O] [Ring1] [=C] [=C] [Branch1] [N] [S] [Ring2] [=O] [=O] [Branch1] [=N] [C] [Branch1] [C] [P] [C]\n",
      "2. (len=58) [C] [O] [=C] [=C] [C] [C] [N] [C] [Ring1] [=N] [N] [O] [C] [=C] [C] [=O] [N] [C] [Ring1] [#Branch1] [=Branch1] [N] [Branch1] [P] [=O] [Branch1] [Branch1] [=O] [Branch1] [S] [Branch1] [=O] [C] [=C] [N] [=C] [Branch1] [Branch1] [Branch1] [Branch2] [C] [C] [Branch1] [=O] [=Branch1] [Branch1] [C] [Ring2] [Ring1] [Ring1] [C] [Ring1] [C] [N] [C] [Ring1] [#Branch2]\n",
      "======================================================================\n",
      "\n",
      "--- Temperature: 1.0 ---\n",
      "\n",
      "🧪 Generating 5 SELFIES molecules...\n",
      "   Temperature: 1.0\n",
      "======================================================================\n",
      "✅ Stopped at step 3 (change: 0.00%)\n",
      "1. (len=59) [=C] [=C] [C] [N] [C] [=C] [Ring2] [N] [#Branch2] [N] [O] [Ring1] [C] [=Branch1] [C] [C] [=O] [C] [Branch1] [Ring1] [Branch1] [Branch1] [N] [S] [=Branch1] [=C] [=Branch1] [Branch1] [Ring1] [Branch1] [Branch1] [Branch1] [Branch1] [Branch1] [C] [C] [=C] [Branch1] [=C] [C] [N] [C] [=O] [=O] [Ring1] [=O] [=C] [C] [C] [O] [C] [C] [C] [P] [Branch1] [Branch1] [C] [Ring2]\n",
      "2. (len=48) [C] [Ring2] [Branch1] [C] [C] [Ring1] [C] [Ring2] [C] [N] [Ring1] [=C] [C] [C] [Ring1] [O] [Ring1] [N] [C] [C] [=O] [Branch1] [Ring1] [S] [Branch2] [Branch1] [C] [Branch2] [Branch1] [S] [=C] [Branch1] [S] [O] [=Branch1] [=N] [C] [C] [Branch1] [O] [S] [O] [Branch1] [=N] [#Branch2] [P] [P]\n",
      "======================================================================\n",
      "\n",
      "--- Temperature: 1.2 ---\n",
      "\n",
      "🧪 Generating 5 SELFIES molecules...\n",
      "   Temperature: 1.2\n",
      "======================================================================\n",
      "1. (len=58) [C] [C] [C] [=O] [C] [=C] [Branch2] [C] [C] [C] [O] [=N] [=C] [Branch1] [C] [Branch2] [Branch1] [S] [C] [C] [C] [C] [S] [Ring1] [Ring1] [=N] [Branch2] [Branch1] [C] [Branch1] [=Branch1] [Ring1] [Branch1] [=C] [Branch1] [Ring2] [Branch1] [Branch1] [=Branch1] [=C] [=Branch1] [C] [=C] [=Branch1] [#Branch2] [Branch1] [C] [C] [Ring2] [O] [C] [Branch1] [Ring1] [Cl] [C] [C] [Ring2]\n",
      "2. (len=65) [C] [=C] [C] [C] [=C] [=C] [O] [C] [NH1] [Branch1] [N] [C] [Ring1] [C] [C] [=C] [C] [N] [Ring1] [Ring1] [C] [Branch1] [=O] [S] [Branch1] [Branch1] [Branch1] [Ring1] [Ring1] [Branch1] [=Branch2] [Branch1] [S] [Branch1] [Branch1] [Branch1] [Branch1] [Branch1] [Branch1] [=N] [Branch2] [Branch1] [Ring1] [=C] [Branch2] [N] [O] [S] [Branch1] [=Branch1] [O] [Branch2] [Branch2] [Ring2] [=O] [S] [O] [Branch2] [Branch1] [N] [C] [Ring1] [Ring1] [C] [Branch2]\n",
      "======================================================================\n"
     ]
    }
   ],
   "source": [
    "# Try different temperatures\n",
    "for temp in [0.8, 1.0, 1.2]:\n",
    "    print(f\"\\n--- Temperature: {temp} ---\")\n",
    "    generate_and_decode(\n",
    "        model=model,\n",
    "        tokenizer=tokenizer,\n",
    "        num_samples=5,\n",
    "        temperature=temp\n",
    "    )"
   ]
  },
  {
   "cell_type": "code",
   "execution_count": 27,
   "id": "9a4108d4",
   "metadata": {},
   "outputs": [
    {
     "name": "stdout",
     "output_type": "stream",
     "text": [
      "O.[NH3+1]NCCNCCCC(CCC=CC=O)=CNCCCCC=O\n"
     ]
    }
   ],
   "source": [
    "import selfies as sf\n",
    "\n",
    "tokens = \"[#Branch2] [Branch1] [#Branch1] [=Branch2] [O] .[NH3+1] [N] [C] [C] [N] [C] [C] [C] [C] [Branch1] [N] [C] [C] [C] [C] [Ring1] [C] [C] [=O] [Ring1] [C] [C] [=C] [N] [C] [C] [C] [C] [C] [=Branch1] [C] [=O] [#Branch1]\"\n",
    "tokens = tokens.replace(\" \", \"\")\n",
    "print(sf.decoder(tokens))"
   ]
  },
  {
   "cell_type": "code",
   "execution_count": null,
   "id": "86c98490",
   "metadata": {},
   "outputs": [],
   "source": []
  }
 ],
 "metadata": {
  "kernelspec": {
   "display_name": "base",
   "language": "python",
   "name": "python3"
  },
  "language_info": {
   "codemirror_mode": {
    "name": "ipython",
    "version": 3
   },
   "file_extension": ".py",
   "mimetype": "text/x-python",
   "name": "python",
   "nbconvert_exporter": "python",
   "pygments_lexer": "ipython3",
   "version": "3.13.0"
  }
 },
 "nbformat": 4,
 "nbformat_minor": 5
}
